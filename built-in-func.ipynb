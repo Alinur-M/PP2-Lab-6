{
 "cells": [
  {
   "cell_type": "markdown",
   "id": "9eb0de9b",
   "metadata": {},
   "source": [
    "1"
   ]
  },
  {
   "cell_type": "code",
   "execution_count": 12,
   "id": "771b73fd",
   "metadata": {},
   "outputs": [],
   "source": [
    "# list = [1, 2, 3]\n",
    "# ans = 2\n",
    "# for i in range(3):\n",
    "#     ans = ans * list[i]\n",
    "# print(ans) это обычный способ решения"
   ]
  },
  {
   "cell_type": "code",
   "execution_count": null,
   "id": "1440bc63",
   "metadata": {},
   "outputs": [
    {
     "name": "stdout",
     "output_type": "stream",
     "text": [
      "24\n"
     ]
    }
   ],
   "source": [
    "import math #модуль\n",
    "list = [1, 2, 3, 4, 5, 6, 7]\n",
    "print(math.prod(list))"
   ]
  },
  {
   "cell_type": "markdown",
   "id": "c898c670",
   "metadata": {},
   "source": [
    "2"
   ]
  },
  {
   "cell_type": "code",
   "execution_count": null,
   "id": "4ba3b719",
   "metadata": {},
   "outputs": [
    {
     "name": "stdout",
     "output_type": "stream",
     "text": [
      "AlInUr has 3 Uppercase characters and 3 lowercase characters\n"
     ]
    }
   ],
   "source": [
    "s = str(input())\n",
    "upp = 0 \n",
    "low = 0\n",
    "for to in s:\n",
    "    if to.isupper(): # встроенная функция проверяющая буква с большого или малеьнкого регистра\n",
    "        upp += 1\n",
    "    elif to.islower():\n",
    "        low += 1\n",
    "print(s, \"has\", upp, \"Uppercase characters and\", low, \"lowercase characters\")"
   ]
  },
  {
   "cell_type": "markdown",
   "id": "f7f93b02",
   "metadata": {},
   "source": [
    "3"
   ]
  },
  {
   "cell_type": "code",
   "execution_count": 45,
   "id": "c1916e88",
   "metadata": {},
   "outputs": [
    {
     "name": "stdout",
     "output_type": "stream",
     "text": [
      "the word is palindrome\n"
     ]
    }
   ],
   "source": [
    "s = \"abssba\"\n",
    "if s == s[::-1]:\n",
    "    print(\"the word is palindrome\")\n",
    "else:\n",
    "    print(\"the word is not palindrome\")\n",
    "\n",
    "# print(s[::-1])\n",
    "#срезы стрингов это разделение стринга для получения подстроки"
   ]
  },
  {
   "cell_type": "code",
   "execution_count": 43,
   "id": "7d5f3402",
   "metadata": {},
   "outputs": [
    {
     "name": "stdout",
     "output_type": "stream",
     "text": [
      "the word is not palindrome\n"
     ]
    }
   ],
   "source": [
    "s = \"alinur\"\n",
    "reversed_string = ''.join(reversed(s))\n",
    "#соединяет элементы листа между собой превращая его в стринг\n",
    "if s == reversed_string:\n",
    "    print(\"the word is palindrome\")\n",
    "else:\n",
    "    print(\"the word is not palindrome\")"
   ]
  },
  {
   "cell_type": "code",
   "execution_count": null,
   "id": "16a6ffee",
   "metadata": {},
   "outputs": [],
   "source": []
  }
 ],
 "metadata": {
  "kernelspec": {
   "display_name": "Python 3",
   "language": "python",
   "name": "python3"
  },
  "language_info": {
   "codemirror_mode": {
    "name": "ipython",
    "version": 3
   },
   "file_extension": ".py",
   "mimetype": "text/x-python",
   "name": "python",
   "nbconvert_exporter": "python",
   "pygments_lexer": "ipython3",
   "version": "3.10.6"
  }
 },
 "nbformat": 4,
 "nbformat_minor": 5
}
